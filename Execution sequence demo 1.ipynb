{
 "cells": [
  {
   "cell_type": "code",
   "execution_count": 1,
   "metadata": {},
   "outputs": [],
   "source": [
    "from metamodel.metamodel import *"
   ]
  },
  {
   "cell_type": "code",
   "execution_count": 2,
   "metadata": {},
   "outputs": [],
   "source": [
    "d = \"\"\"HAMACHER\n",
    "X,Y,Z\n",
    "s0,s1,s2,s3\n",
    "s0\n",
    "s0,s1\n",
    "!O1 X*9\n",
    "HAMACHER\n",
    "X<=4 [0.62]\n",
    "Identity\n",
    "s0,s2\n",
    "?Input2 X,Y,Z\n",
    "HAMACHER true\n",
    "X=Y*Z/3, Y=0\n",
    "s0,s3\n",
    "!O1 X*9\n",
    "HAMACHER\n",
    "X<=4 [0.62]\n",
    "Identity\n",
    "s0,s3\n",
    "?Input2 X,Y,Z\n",
    "PRODUCT\n",
    "Y=X+1 [0.2], Z<=5<=X [0.7]\n",
    "X=Y*Z/3, Y=0\n",
    "s3, s0\n",
    "!reset X,Y\n",
    "PRODUCT\n",
    "True\n",
    "Identity\"\"\"\n",
    "ex = ep.parse_automata(d)"
   ]
  },
  {
   "cell_type": "code",
   "execution_count": 3,
   "metadata": {},
   "outputs": [
    {
     "data": {
      "text/plain": [
       "'reset'"
      ]
     },
     "execution_count": 3,
     "metadata": {},
     "output_type": "execute_result"
    }
   ],
   "source": [
    "ex.transitions[-1].act.name"
   ]
  },
  {
   "cell_type": "code",
   "execution_count": 4,
   "metadata": {},
   "outputs": [
    {
     "name": "stdout",
     "output_type": "stream",
     "text": [
      "\n",
      "reset\n"
     ]
    },
    {
     "data": {
      "text/plain": [
       "'reset'"
      ]
     },
     "execution_count": 4,
     "metadata": {},
     "output_type": "execute_result"
    }
   ],
   "source": [
    "tinput = tp.parse_test_trace('?Input2(5.1,6,1),!')[0]\n",
    "tinput2 = tp.parse_test_trace('?Input2(5.1,6,1),!reset')[1]\n",
    "tinput2.name"
   ]
  },
  {
   "cell_type": "code",
   "execution_count": 5,
   "metadata": {},
   "outputs": [
    {
     "data": {
      "text/plain": [
       "[{'s0': {'action_str': None,\n",
       "   'eps': 1,\n",
       "   'prevstate': None,\n",
       "   'varstate': {<metamodel.metamodel.Var at 0x7fbcc094bf98>: 5.1,\n",
       "    <metamodel.metamodel.Var at 0x7fbcc094d5f8>: 6.0,\n",
       "    <metamodel.metamodel.Var at 0x7fbcc094d630>: 1.0}}},\n",
       " {'s2': {'action_str': '?Input2(5.1, 6.0, 1.0)',\n",
       "   'eps': 1.0,\n",
       "   'prevstate': 's0',\n",
       "   'varstate': {<metamodel.metamodel.Var at 0x7fbcc094bf98>: 2.0,\n",
       "    <metamodel.metamodel.Var at 0x7fbcc094d5f8>: 0.0,\n",
       "    <metamodel.metamodel.Var at 0x7fbcc094d630>: 1.0}},\n",
       "  's3': {'action_str': '?Input2(5.1, 6.0, 1.0)',\n",
       "   'eps': 0.5000000000000018,\n",
       "   'prevstate': 's0',\n",
       "   'varstate': {<metamodel.metamodel.Var at 0x7fbcc094bf98>: 2.0,\n",
       "    <metamodel.metamodel.Var at 0x7fbcc094d5f8>: 0.0,\n",
       "    <metamodel.metamodel.Var at 0x7fbcc094d630>: 1.0}}},\n",
       " {'s0': {'action_str': '!reset(2.0, 0.0)',\n",
       "   'eps': 0.5000000000000018,\n",
       "   'prevstate': 's3',\n",
       "   'varstate': {<metamodel.metamodel.Var at 0x7fbcc094bf98>: 2.0,\n",
       "    <metamodel.metamodel.Var at 0x7fbcc094d5f8>: 0.0,\n",
       "    <metamodel.metamodel.Var at 0x7fbcc094d630>: 1.0}}}]"
      ]
     },
     "execution_count": 5,
     "metadata": {},
     "output_type": "execute_result"
    }
   ],
   "source": [
    "exe = ExecutionSequence(ex, ex.inistate, {it:0 for it in ex.FV()})\n",
    "exe.step(tinput)\n",
    "exe.step(tinput2)\n",
    "exe.v"
   ]
  },
  {
   "cell_type": "code",
   "execution_count": 6,
   "metadata": {},
   "outputs": [
    {
     "data": {
      "text/plain": [
       "'reset'"
      ]
     },
     "execution_count": 6,
     "metadata": {},
     "output_type": "execute_result"
    }
   ],
   "source": [
    "tinput2.name"
   ]
  },
  {
   "cell_type": "code",
   "execution_count": 7,
   "metadata": {},
   "outputs": [
    {
     "data": {
      "text/plain": [
       "False"
      ]
     },
     "execution_count": 7,
     "metadata": {},
     "output_type": "execute_result"
    }
   ],
   "source": [
    "ex.transitions[-1].act.match(tinput2) == None"
   ]
  }
 ],
 "metadata": {
  "kernelspec": {
   "display_name": "Python [conda env:aunty]",
   "language": "python",
   "name": "conda-env-aunty-py"
  },
  "language_info": {
   "codemirror_mode": {
    "name": "ipython",
    "version": 3
   },
   "file_extension": ".py",
   "mimetype": "text/x-python",
   "name": "python",
   "nbconvert_exporter": "python",
   "pygments_lexer": "ipython3",
   "version": "3.5.6"
  }
 },
 "nbformat": 4,
 "nbformat_minor": 2
}
