{
 "cells": [
  {
   "cell_type": "code",
   "execution_count": 1,
   "metadata": {
    "nbpresent": {
     "id": "a1afd987-7675-4901-b598-5f18c64ec1ae"
    }
   },
   "outputs": [],
   "source": [
    "from metamodel.metamodel import *"
   ]
  },
  {
   "cell_type": "code",
   "execution_count": 2,
   "metadata": {},
   "outputs": [],
   "source": [
    "d = \"\"\"HAMACHER\n",
    "X,Y,Z\n",
    "s0,s1,s2,s3\n",
    "s0\n",
    "s0,s1\n",
    "!O1 X*9\n",
    "HAMACHER\n",
    "X<=4 [0.62]\n",
    "Identity\n",
    "s0,s2\n",
    "?Input2 X,Y,Z\n",
    "HAMACHER true\n",
    "X=Y*Z/3, Y=0\n",
    "s0,s3\n",
    "!O1 X*9\n",
    "HAMACHER\n",
    "X<=4 [0.62]\n",
    "Identity\n",
    "s0,s3\n",
    "?Input2 X,Y,Z\n",
    "PRODUCT\n",
    "Y=X+1 [0.2], Z<=5<=X [0.7]\n",
    "X=Y*Z/3, Y=0\"\"\"\n",
    "ex = ep.parse_automata(d)"
   ]
  },
  {
   "cell_type": "code",
   "execution_count": 3,
   "metadata": {},
   "outputs": [
    {
     "data": {
      "text/plain": [
       "[<metamodel.metamodel.Transition at 0x7f3871f90828>,\n",
       " <metamodel.metamodel.Transition at 0x7f3871f90fd0>,\n",
       " <metamodel.metamodel.Transition at 0x7f3871f92240>,\n",
       " <metamodel.metamodel.Transition at 0x7f3871f92710>]"
      ]
     },
     "execution_count": 3,
     "metadata": {},
     "output_type": "execute_result"
    }
   ],
   "source": [
    "tr = ex.transitions\n",
    "tr"
   ]
  },
  {
   "cell_type": "code",
   "execution_count": 4,
   "metadata": {},
   "outputs": [
    {
     "data": {
      "text/plain": [
       "{<metamodel.metamodel.Var at 0x7f3871f99240>: 10.0,\n",
       " <metamodel.metamodel.Var at 0x7f3871f99278>: 0.0,\n",
       " <metamodel.metamodel.Var at 0x7f3871f992b0>: 6}"
      ]
     },
     "execution_count": 4,
     "metadata": {},
     "output_type": "execute_result"
    }
   ],
   "source": [
    "tr[-1].vt.apply({Var('X'):0, Var('Y'):5, Var('Z'):6})"
   ]
  },
  {
   "cell_type": "code",
   "execution_count": 5,
   "metadata": {},
   "outputs": [
    {
     "data": {
      "text/plain": [
       "{<metamodel.metamodel.Var at 0x7f3871f90208>: 0,\n",
       " <metamodel.metamodel.Var at 0x7f3871f90ac8>: 0,\n",
       " <metamodel.metamodel.Var at 0x7f3871f90b70>: 0}"
      ]
     },
     "execution_count": 5,
     "metadata": {},
     "output_type": "execute_result"
    }
   ],
   "source": [
    "{a:0 for a in ex.FV()}"
   ]
  },
  {
   "cell_type": "code",
   "execution_count": 6,
   "metadata": {},
   "outputs": [
    {
     "data": {
      "text/plain": [
       "0.5000000000000018"
      ]
     },
     "execution_count": 6,
     "metadata": {},
     "output_type": "execute_result"
    }
   ],
   "source": [
    "[str(it) for it in tr[-1].constr.FV()]\n",
    "tr[-1].constr.assign({Var('X'):5.1,\n",
    "                      Var('Y'):6,\n",
    "                      Var('Z'):0}).eval()"
   ]
  },
  {
   "cell_type": "code",
   "execution_count": 7,
   "metadata": {},
   "outputs": [
    {
     "data": {
      "text/plain": [
       "{<metamodel.metamodel.Var at 0x7f3871f99400>,\n",
       " <metamodel.metamodel.Var at 0x7f3871f99518>,\n",
       " <metamodel.metamodel.Var at 0x7f3871f99160>}"
      ]
     },
     "execution_count": 7,
     "metadata": {},
     "output_type": "execute_result"
    }
   ],
   "source": [
    "tr[-1].constr.assign({}).FV()"
   ]
  },
  {
   "cell_type": "code",
   "execution_count": 8,
   "metadata": {},
   "outputs": [
    {
     "data": {
      "text/plain": [
       "{<metamodel.metamodel.Var at 0x7f3871fcaa90>: 5.1,\n",
       " <metamodel.metamodel.Var at 0x7f3871fcab00>: 6.0,\n",
       " <metamodel.metamodel.Var at 0x7f3871fcab70>: 0.0}"
      ]
     },
     "execution_count": 8,
     "metadata": {},
     "output_type": "execute_result"
    }
   ],
   "source": [
    "iinput = tr[-1].act\n",
    "tinput = tp.parse_test_trace('?Input2(5.1,6,0)')[0]\n",
    "iinput.match(tinput)"
   ]
  },
  {
   "cell_type": "code",
   "execution_count": 9,
   "metadata": {},
   "outputs": [
    {
     "data": {
      "text/plain": [
       "0.5000000000000018"
      ]
     },
     "execution_count": 9,
     "metadata": {},
     "output_type": "execute_result"
    }
   ],
   "source": [
    "tr[-1].constr.assign(iinput.match(tinput)).eval()"
   ]
  },
  {
   "cell_type": "code",
   "execution_count": 10,
   "metadata": {},
   "outputs": [
    {
     "data": {
      "text/plain": [
       "<metamodel.metamodel.Product at 0x7f3871f923c8>"
      ]
     },
     "execution_count": 10,
     "metadata": {},
     "output_type": "execute_result"
    }
   ],
   "source": [
    "tr[-1].constr.tnorm"
   ]
  },
  {
   "cell_type": "code",
   "execution_count": 11,
   "metadata": {},
   "outputs": [],
   "source": [
    "fv = ex.FV()"
   ]
  },
  {
   "cell_type": "code",
   "execution_count": 12,
   "metadata": {},
   "outputs": [
    {
     "data": {
      "text/plain": [
       "True"
      ]
     },
     "execution_count": 12,
     "metadata": {},
     "output_type": "execute_result"
    }
   ],
   "source": [
    "x = Var('x')\n",
    "Multiplication(x.assign({x:15}),Val(4)).eval() == Multiplication(x,Val(4)).assign({x:15}).eval()"
   ]
  },
  {
   "cell_type": "code",
   "execution_count": 13,
   "metadata": {},
   "outputs": [
    {
     "data": {
      "text/plain": [
       "['Z', 'X', 'Y']"
      ]
     },
     "execution_count": 13,
     "metadata": {},
     "output_type": "execute_result"
    }
   ],
   "source": [
    "[str(v) for v in fv]"
   ]
  },
  {
   "cell_type": "code",
   "execution_count": 14,
   "metadata": {
    "nbpresent": {
     "id": "d7d3667a-a502-4cf0-b87b-227f6b3ddaa9"
    }
   },
   "outputs": [
    {
     "data": {
      "text/plain": [
       "<metamodel.metamodel.Hamacher at 0x7f3871fe6cf8>"
      ]
     },
     "execution_count": 14,
     "metadata": {},
     "output_type": "execute_result"
    }
   ],
   "source": [
    "ex.tnorm"
   ]
  },
  {
   "cell_type": "code",
   "execution_count": 15,
   "metadata": {
    "nbpresent": {
     "id": "6abe2375-3f8c-48d9-9169-aa5bb3a49f9f"
    }
   },
   "outputs": [
    {
     "data": {
      "text/plain": [
       "['X', 'Y', 'Z']"
      ]
     },
     "execution_count": 15,
     "metadata": {},
     "output_type": "execute_result"
    }
   ],
   "source": [
    "ex.varlist"
   ]
  },
  {
   "cell_type": "code",
   "execution_count": 16,
   "metadata": {
    "nbpresent": {
     "id": "81ae2ea5-c4eb-4f32-a2b4-75c387d69862"
    }
   },
   "outputs": [
    {
     "data": {
      "text/plain": [
       "['s0', 's1', 's2', 's3']"
      ]
     },
     "execution_count": 16,
     "metadata": {},
     "output_type": "execute_result"
    }
   ],
   "source": [
    "ex.states"
   ]
  },
  {
   "cell_type": "code",
   "execution_count": 17,
   "metadata": {
    "nbpresent": {
     "id": "a99c5717-7196-4866-adf0-e21fddc7a53f"
    }
   },
   "outputs": [
    {
     "data": {
      "text/plain": [
       "'s0'"
      ]
     },
     "execution_count": 17,
     "metadata": {},
     "output_type": "execute_result"
    }
   ],
   "source": [
    "ex.inistate"
   ]
  },
  {
   "cell_type": "code",
   "execution_count": 18,
   "metadata": {
    "nbpresent": {
     "id": "a0777277-c6e6-4262-8cb7-64d7d3e61756"
    }
   },
   "outputs": [
    {
     "data": {
      "text/plain": [
       "'<metamodel.metamodel.Transition object at 0x7f3871f90fd0>'"
      ]
     },
     "execution_count": 18,
     "metadata": {},
     "output_type": "execute_result"
    }
   ],
   "source": [
    "t = tr[1]\n",
    "str(t)"
   ]
  },
  {
   "cell_type": "code",
   "execution_count": 19,
   "metadata": {},
   "outputs": [
    {
     "data": {
      "text/plain": [
       "'s0'"
      ]
     },
     "execution_count": 19,
     "metadata": {},
     "output_type": "execute_result"
    }
   ],
   "source": [
    "t.s0"
   ]
  },
  {
   "cell_type": "code",
   "execution_count": 20,
   "metadata": {},
   "outputs": [
    {
     "data": {
      "text/plain": [
       "'s2'"
      ]
     },
     "execution_count": 20,
     "metadata": {},
     "output_type": "execute_result"
    }
   ],
   "source": [
    "t.s1"
   ]
  },
  {
   "cell_type": "code",
   "execution_count": 21,
   "metadata": {},
   "outputs": [
    {
     "data": {
      "text/plain": [
       "'<metamodel.metamodel.Input object at 0x7f3871f909e8>'"
      ]
     },
     "execution_count": 21,
     "metadata": {},
     "output_type": "execute_result"
    }
   ],
   "source": [
    "act = t.act\n",
    "str(act)"
   ]
  },
  {
   "cell_type": "code",
   "execution_count": 22,
   "metadata": {},
   "outputs": [
    {
     "data": {
      "text/plain": [
       "'Input2'"
      ]
     },
     "execution_count": 22,
     "metadata": {},
     "output_type": "execute_result"
    }
   ],
   "source": [
    "act.name"
   ]
  },
  {
   "cell_type": "code",
   "execution_count": 23,
   "metadata": {},
   "outputs": [
    {
     "data": {
      "text/plain": [
       "['X', 'Y', 'Z']"
      ]
     },
     "execution_count": 23,
     "metadata": {},
     "output_type": "execute_result"
    }
   ],
   "source": [
    "act.varlist"
   ]
  },
  {
   "cell_type": "code",
   "execution_count": 24,
   "metadata": {},
   "outputs": [
    {
     "data": {
      "text/plain": [
       "'Multiplication(X,9.0)'"
      ]
     },
     "execution_count": 24,
     "metadata": {},
     "output_type": "execute_result"
    }
   ],
   "source": [
    "str(tr[0].act.exprs[0])"
   ]
  },
  {
   "cell_type": "code",
   "execution_count": 25,
   "metadata": {},
   "outputs": [
    {
     "data": {
      "text/plain": [
       "'<metamodel.metamodel.TrueConstraint object at 0x7f3871f90978>'"
      ]
     },
     "execution_count": 25,
     "metadata": {},
     "output_type": "execute_result"
    }
   ],
   "source": [
    "constr = t.constr\n",
    "str(constr)"
   ]
  },
  {
   "cell_type": "code",
   "execution_count": 26,
   "metadata": {},
   "outputs": [
    {
     "data": {
      "text/plain": [
       "'<metamodel.metamodel.LeqRel object at 0x7f3871f92128>'"
      ]
     },
     "execution_count": 26,
     "metadata": {},
     "output_type": "execute_result"
    }
   ],
   "source": [
    "leq = tr[2].constr\n",
    "str(leq)"
   ]
  },
  {
   "cell_type": "code",
   "execution_count": 27,
   "metadata": {},
   "outputs": [
    {
     "data": {
      "text/plain": [
       "'X'"
      ]
     },
     "execution_count": 27,
     "metadata": {},
     "output_type": "execute_result"
    }
   ],
   "source": [
    "str(leq.l)"
   ]
  },
  {
   "cell_type": "code",
   "execution_count": 28,
   "metadata": {},
   "outputs": [
    {
     "data": {
      "text/plain": [
       "0.62"
      ]
     },
     "execution_count": 28,
     "metadata": {},
     "output_type": "execute_result"
    }
   ],
   "source": [
    "leq.delta"
   ]
  },
  {
   "cell_type": "code",
   "execution_count": 29,
   "metadata": {},
   "outputs": [
    {
     "data": {
      "text/plain": [
       "'4.0'"
      ]
     },
     "execution_count": 29,
     "metadata": {},
     "output_type": "execute_result"
    }
   ],
   "source": [
    "str(leq.r)"
   ]
  },
  {
   "cell_type": "code",
   "execution_count": 30,
   "metadata": {},
   "outputs": [
    {
     "data": {
      "text/plain": [
       "'<metamodel.metamodel.VariableTransforms object at 0x7f3871f909b0>'"
      ]
     },
     "execution_count": 30,
     "metadata": {},
     "output_type": "execute_result"
    }
   ],
   "source": [
    "vt = t.vt\n",
    "str(vt)"
   ]
  },
  {
   "cell_type": "code",
   "execution_count": 31,
   "metadata": {},
   "outputs": [
    {
     "data": {
      "text/plain": [
       "'<metamodel.metamodel.VariableTransform object at 0x7f3871f90dd8>'"
      ]
     },
     "execution_count": 31,
     "metadata": {},
     "output_type": "execute_result"
    }
   ],
   "source": [
    "str(t.vt.v[0])"
   ]
  }
 ],
 "metadata": {
  "kernelspec": {
   "display_name": "Python [conda env:aunty]",
   "language": "python",
   "name": "conda-env-aunty-py"
  },
  "language_info": {
   "codemirror_mode": {
    "name": "ipython",
    "version": 3
   },
   "file_extension": ".py",
   "mimetype": "text/x-python",
   "name": "python",
   "nbconvert_exporter": "python",
   "pygments_lexer": "ipython3",
   "version": "3.5.6"
  }
 },
 "nbformat": 4,
 "nbformat_minor": 2
}
